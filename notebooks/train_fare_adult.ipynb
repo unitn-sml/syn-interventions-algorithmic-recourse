{
 "cells": [
  {
   "cell_type": "code",
   "execution_count": 1,
   "metadata": {},
   "outputs": [],
   "source": [
    "from sklearn.svm import SVC\n",
    "from sklearn.model_selection import train_test_split\n",
    "from sklearn.preprocessing import StandardScaler, OneHotEncoder\n",
    "from sklearn.compose import make_column_selector, make_column_transformer\n",
    "from sklearn.metrics import classification_report\n",
    "\n",
    "from rl_mcts.core.models.FARE import FARE\n",
    "\n",
    "import pandas as pd\n",
    "import numpy as np\n",
    "\n",
    "import random\n",
    "import torch\n",
    "\n",
    "# It is done to make the notebook aware of previous classes\n",
    "import sys\n",
    "sys.path.append(\"../\")"
   ]
  },
  {
   "cell_type": "code",
   "execution_count": 2,
   "metadata": {},
   "outputs": [],
   "source": [
    "# Set some random seeds to ensure reproducibility\n",
    "random.seed(2023)\n",
    "np.random.seed(2023)\n",
    "torch.manual_seed(2023)\n",
    "torch.backends.cudnn.deterministic = True\n",
    "torch.backends.cudnn.benchmark = False"
   ]
  },
  {
   "cell_type": "code",
   "execution_count": 3,
   "metadata": {},
   "outputs": [],
   "source": [
    "# Read adult dataset and preprocess them.\n",
    "# We remove NaNs values and we split the features from the predictor variable\n",
    "X = pd.read_csv(\"../data/adult_score/train.csv\")\n",
    "X.dropna(inplace=True)\n",
    "y = X.income_target.apply(lambda x: 1 if x==\"<=50K\" else 0)\n",
    "X.drop(columns=[\"income_target\", \"predicted\"], inplace=True)"
   ]
  },
  {
   "cell_type": "code",
   "execution_count": 4,
   "metadata": {},
   "outputs": [],
   "source": [
    "# Split the dataset into train/test\n",
    "X_train, X_test, y_train, y_test = train_test_split(X, y, test_size=0.2, random_state=2023)"
   ]
  },
  {
   "cell_type": "code",
   "execution_count": 5,
   "metadata": {},
   "outputs": [],
   "source": [
    "# Build a preprocessing pipeline, which can be used to preprocess\n",
    "# the elements of the dataset.\n",
    "cat_selector = make_column_selector(dtype_include=object)\n",
    "num_selector = make_column_selector(dtype_include=np.number)\n",
    "preprocessor = make_column_transformer(\n",
    "    (StandardScaler(), num_selector), (OneHotEncoder(handle_unknown=\"ignore\",sparse=False), cat_selector)\n",
    ")"
   ]
  },
  {
   "cell_type": "code",
   "execution_count": 6,
   "metadata": {},
   "outputs": [
    {
     "data": {
      "text/plain": [
       "ColumnTransformer(transformers=[('standardscaler', StandardScaler(),\n",
       "                                 <sklearn.compose._column_transformer.make_column_selector object at 0x7fa65633abb0>),\n",
       "                                ('onehotencoder',\n",
       "                                 OneHotEncoder(handle_unknown='ignore',\n",
       "                                               sparse=False),\n",
       "                                 <sklearn.compose._column_transformer.make_column_selector object at 0x7fa65633ad30>)])"
      ]
     },
     "execution_count": 6,
     "metadata": {},
     "output_type": "execute_result"
    }
   ],
   "source": [
    "# Fit the preprocessor on the training data \n",
    "preprocessor.fit(X_train)"
   ]
  },
  {
   "cell_type": "code",
   "execution_count": 7,
   "metadata": {},
   "outputs": [
    {
     "name": "stdout",
     "output_type": "stream",
     "text": [
      "              precision    recall  f1-score   support\n",
      "\n",
      "           0       0.87      0.59      0.70       471\n",
      "           1       0.80      0.95      0.87       832\n",
      "\n",
      "    accuracy                           0.82      1303\n",
      "   macro avg       0.84      0.77      0.79      1303\n",
      "weighted avg       0.83      0.82      0.81      1303\n",
      "\n"
     ]
    }
   ],
   "source": [
    "# Fit a simple model over the data\n",
    "blackbox_model = SVC(class_weight=\"balanced\")\n",
    "blackbox_model.fit(preprocessor.transform(X_train), y_train)\n",
    "\n",
    "# Evaluate the model and print the classification report for the two classes\n",
    "output = blackbox_model.predict(preprocessor.transform(X_test))\n",
    "print(classification_report(output, y_test))"
   ]
  },
  {
   "cell_type": "code",
   "execution_count": 8,
   "metadata": {},
   "outputs": [],
   "source": [
    "# Filter the training dataset by picking only the examples which are classified negatively by the model\n",
    "output = blackbox_model.predict(preprocessor.transform(X_train))\n",
    "X_train[\"predicted\"] = output\n",
    "X_train = X_train[X_train.predicted == 1]\n",
    "X_train.drop(columns=\"predicted\", inplace=True)"
   ]
  },
  {
   "cell_type": "code",
   "execution_count": 9,
   "metadata": {},
   "outputs": [],
   "source": [
    "policy_config= {\n",
    "        \"observation_dim\": 103,\n",
    "        \"encoding_dim\": 50,\n",
    "        \"hidden_size\": 50,\n",
    "        \"model_path\": None\n",
    "    }\n",
    "\n",
    "environment_config = {\n",
    "    \"class_name\": \"synthetizer.adult_score.environment.AdultEnvironment\",\n",
    "    \"additional_parameters\": {\n",
    "        \"preprocessor\": preprocessor\n",
    "    }\n",
    "}\n",
    "\n",
    "mcts_config = {\n",
    "    \"exploration\": True,\n",
    "    \"number_of_simulations\": 10,\n",
    "    \"dir_epsilon\": 0.3,\n",
    "    \"dir_noise\": 0.3,\n",
    "    \"level_closeness_coeff\": 3.0,\n",
    "    \"level_0_penalty\": 1.0,\n",
    "    \"qvalue_temperature\": 1.0,\n",
    "    \"temperature\": 1.3,\n",
    "    \"c_puct\": 0.5,\n",
    "    \"gamma\": 0.97\n",
    "}"
   ]
  },
  {
   "cell_type": "code",
   "execution_count": 12,
   "metadata": {},
   "outputs": [
    {
     "name": "stdout",
     "output_type": "stream",
     "text": [
      "[*] Iteration 10 / Buffer Size: 2 / 0.039 \n",
      "[*] Iteration 20 / Buffer Size: 2 / 0.054 \n",
      "[*] Iteration 30 / Buffer Size: 5 / 0.067 \n",
      "[*] Iteration 40 / Buffer Size: 11 / 0.070 \n",
      "[*] Iteration 50 / Buffer Size: 11 / 0.082 \n",
      "[*] Iteration 60 / Buffer Size: 18 / 0.084 \n",
      "[*] Iteration 70 / Buffer Size: 20 / 0.076 \n",
      "[*] Iteration 80 / Buffer Size: 23 / 0.069 \n",
      "[*] Iteration 90 / Buffer Size: 27 / 0.082 \n",
      "[*] Iteration 100 / Buffer Size: 30 / 0.093 \n",
      "[*] Iteration 110 / Buffer Size: 30 / 0.122 \n",
      "[*] Iteration 120 / Buffer Size: 30 / 0.120 \n",
      "[*] Iteration 130 / Buffer Size: 37 / 0.128 \n"
     ]
    },
    {
     "ename": "KeyboardInterrupt",
     "evalue": "",
     "output_type": "error",
     "traceback": [
      "\u001b[0;31m---------------------------------------------------------------------------\u001b[0m",
      "\u001b[0;31mKeyboardInterrupt\u001b[0m                         Traceback (most recent call last)",
      "Cell \u001b[0;32mIn[12], line 3\u001b[0m\n\u001b[1;32m      1\u001b[0m \u001b[38;5;66;03m# Train a FARE model given the previous configurations\u001b[39;00m\n\u001b[1;32m      2\u001b[0m model \u001b[38;5;241m=\u001b[39m FARE(blackbox_model, policy_config, environment_config, mcts_config)\n\u001b[0;32m----> 3\u001b[0m \u001b[43mmodel\u001b[49m\u001b[38;5;241;43m.\u001b[39;49m\u001b[43mfit\u001b[49m\u001b[43m(\u001b[49m\u001b[43mX_train\u001b[49m\u001b[43m,\u001b[49m\u001b[43m \u001b[49m\u001b[43mmax_iter\u001b[49m\u001b[38;5;241;43m=\u001b[39;49m\u001b[38;5;241;43m500\u001b[39;49m\u001b[43m,\u001b[49m\u001b[43m \u001b[49m\u001b[43mverbose\u001b[49m\u001b[38;5;241;43m=\u001b[39;49m\u001b[38;5;28;43;01mTrue\u001b[39;49;00m\u001b[43m)\u001b[49m\n",
      "File \u001b[0;32m~/Github/PhD/rl_mcts_library/rl_mcts/core/models/FARE.py:155\u001b[0m, in \u001b[0;36mFARE.fit\u001b[0;34m(self, X, max_iter, verbose)\u001b[0m\n\u001b[1;32m    143\u001b[0m features \u001b[38;5;241m=\u001b[39m features\u001b[38;5;241m.\u001b[39mto_dict(orient\u001b[38;5;241m=\u001b[39m\u001b[38;5;124m'\u001b[39m\u001b[38;5;124mrecords\u001b[39m\u001b[38;5;124m'\u001b[39m)[\u001b[38;5;241m0\u001b[39m]\n\u001b[1;32m    145\u001b[0m mcts \u001b[38;5;241m=\u001b[39m MCTS(\n\u001b[1;32m    146\u001b[0m     import_dyn_class(\u001b[38;5;28mself\u001b[39m\u001b[38;5;241m.\u001b[39menvironment_config\u001b[38;5;241m.\u001b[39mget(\u001b[38;5;124m\"\u001b[39m\u001b[38;5;124mclass_name\u001b[39m\u001b[38;5;124m\"\u001b[39m))(\n\u001b[1;32m    147\u001b[0m         features\u001b[38;5;241m.\u001b[39mcopy(),\n\u001b[0;32m   (...)\u001b[0m\n\u001b[1;32m    152\u001b[0m     \u001b[38;5;241m*\u001b[39m\u001b[38;5;241m*\u001b[39m\u001b[38;5;28mself\u001b[39m\u001b[38;5;241m.\u001b[39mmcts_config\n\u001b[1;32m    153\u001b[0m )\n\u001b[0;32m--> 155\u001b[0m traces, root_node, node_expanded \u001b[38;5;241m=\u001b[39m \u001b[43mmcts\u001b[49m\u001b[38;5;241;43m.\u001b[39;49m\u001b[43msample_intervention\u001b[49m\u001b[43m(\u001b[49m\u001b[43m)\u001b[49m\n\u001b[1;32m    157\u001b[0m \u001b[38;5;66;03m# Run one optimization step within the trainer\u001b[39;00m\n\u001b[1;32m    158\u001b[0m \u001b[38;5;28mself\u001b[39m\u001b[38;5;241m.\u001b[39mtrainer\u001b[38;5;241m.\u001b[39mtrain_one_step([traces])\n",
      "File \u001b[0;32m~/Github/PhD/rl_mcts_library/rl_mcts/core/mcts/MCTS.py:334\u001b[0m, in \u001b[0;36mMCTS.sample_intervention\u001b[0;34m(self)\u001b[0m\n\u001b[1;32m    326\u001b[0m     root \u001b[38;5;241m=\u001b[39m MCTSNode\u001b[38;5;241m.\u001b[39minitialize_root_args(\n\u001b[1;32m    327\u001b[0m         task_index,\n\u001b[1;32m    328\u001b[0m         init_observation, env_init_state,\n\u001b[1;32m    329\u001b[0m         state_h, state_c, state_h_args, state_c_args\n\u001b[1;32m    330\u001b[0m     )\n\u001b[1;32m    332\u001b[0m \u001b[38;5;28mself\u001b[39m\u001b[38;5;241m.\u001b[39mroot_node \u001b[38;5;241m=\u001b[39m root\n\u001b[0;32m--> 334\u001b[0m final_node, max_depth_reached, illegal_action, total_node_expanded \u001b[38;5;241m=\u001b[39m \u001b[38;5;28;43mself\u001b[39;49m\u001b[38;5;241;43m.\u001b[39;49m\u001b[43m_play_episode\u001b[49m\u001b[43m(\u001b[49m\u001b[43mroot\u001b[49m\u001b[43m)\u001b[49m\n\u001b[1;32m    336\u001b[0m \u001b[38;5;28;01mif\u001b[39;00m \u001b[38;5;129;01mnot\u001b[39;00m illegal_action:\n\u001b[1;32m    337\u001b[0m     final_node\u001b[38;5;241m.\u001b[39mselected \u001b[38;5;241m=\u001b[39m \u001b[38;5;28;01mTrue\u001b[39;00m\n",
      "File \u001b[0;32m~/Github/PhD/rl_mcts_library/rl_mcts/core/mcts/MCTS.py:240\u001b[0m, in \u001b[0;36mMCTS._play_episode\u001b[0;34m(self, root_node)\u001b[0m\n\u001b[1;32m    237\u001b[0m     value \u001b[38;5;241m=\u001b[39m \u001b[38;5;241m-\u001b[39m\u001b[38;5;241m1.0\u001b[39m\n\u001b[1;32m    238\u001b[0m \u001b[38;5;28;01melif\u001b[39;00m \u001b[38;5;129;01mnot\u001b[39;00m simulation_max_depth_reached \u001b[38;5;129;01mand\u001b[39;00m \u001b[38;5;129;01mnot\u001b[39;00m has_expanded_node:\n\u001b[1;32m    239\u001b[0m     \u001b[38;5;66;03m# if node corresponds to end of an episode, backprogagate real reward\u001b[39;00m\n\u001b[0;32m--> 240\u001b[0m     reward \u001b[38;5;241m=\u001b[39m \u001b[38;5;28;43mself\u001b[39;49m\u001b[38;5;241;43m.\u001b[39;49m\u001b[43menv\u001b[49m\u001b[38;5;241;43m.\u001b[39;49m\u001b[43mget_reward\u001b[49m\u001b[43m(\u001b[49m\u001b[43m)\u001b[49m\n\u001b[1;32m    241\u001b[0m     \u001b[38;5;28;01mif\u001b[39;00m reward \u001b[38;5;241m>\u001b[39m \u001b[38;5;241m0\u001b[39m:\n\u001b[1;32m    242\u001b[0m         value \u001b[38;5;241m=\u001b[39m \u001b[38;5;28mself\u001b[39m\u001b[38;5;241m.\u001b[39menv\u001b[38;5;241m.\u001b[39mget_reward() \u001b[38;5;241m*\u001b[39m (\u001b[38;5;28mself\u001b[39m\u001b[38;5;241m.\u001b[39mgamma \u001b[38;5;241m*\u001b[39m\u001b[38;5;241m*\u001b[39m node\u001b[38;5;241m.\u001b[39mdepth)\n",
      "File \u001b[0;32m~/Github/PhD/rl_mcts_library/rl_mcts/core/environment.py:183\u001b[0m, in \u001b[0;36mEnvironment.get_reward\u001b[0;34m(self)\u001b[0m\n\u001b[1;32m    181\u001b[0m state \u001b[38;5;241m=\u001b[39m \u001b[38;5;28mself\u001b[39m\u001b[38;5;241m.\u001b[39mget_state()\n\u001b[1;32m    182\u001b[0m current_task_postcondition \u001b[38;5;241m=\u001b[39m \u001b[38;5;28mself\u001b[39m\u001b[38;5;241m.\u001b[39mprog_to_postcondition\n\u001b[0;32m--> 183\u001b[0m \u001b[38;5;28;01mreturn\u001b[39;00m \u001b[38;5;28mint\u001b[39m(\u001b[43mcurrent_task_postcondition\u001b[49m\u001b[43m(\u001b[49m\u001b[43mtask_init_state\u001b[49m\u001b[43m,\u001b[49m\u001b[43m \u001b[49m\u001b[43mstate\u001b[49m\u001b[43m)\u001b[49m)\n",
      "File \u001b[0;32m~/Github/PhD/syn-interventions-algorithmic-recourse/notebooks/../synthetizer/adult_score/environment.py:183\u001b[0m, in \u001b[0;36mAdultEnvironment._intervene_postcondition\u001b[0;34m(self, init_state, current_state)\u001b[0m\n\u001b[1;32m    181\u001b[0m \u001b[38;5;28;01mdef\u001b[39;00m \u001b[38;5;21m_intervene_postcondition\u001b[39m(\u001b[38;5;28mself\u001b[39m, init_state, current_state):\n\u001b[1;32m    182\u001b[0m     obs \u001b[38;5;241m=\u001b[39m \u001b[38;5;28mself\u001b[39m\u001b[38;5;241m.\u001b[39mpreprocessor\u001b[38;5;241m.\u001b[39mtransform(\n\u001b[0;32m--> 183\u001b[0m         \u001b[43mpd\u001b[49m\u001b[38;5;241;43m.\u001b[39;49m\u001b[43mDataFrame\u001b[49m\u001b[38;5;241;43m.\u001b[39;49m\u001b[43mfrom_records\u001b[49m\u001b[43m(\u001b[49m\n\u001b[1;32m    184\u001b[0m \u001b[43m            \u001b[49m\u001b[43m[\u001b[49m\u001b[38;5;28;43mself\u001b[39;49m\u001b[38;5;241;43m.\u001b[39;49m\u001b[43mfeatures\u001b[49m\u001b[43m]\u001b[49m\n\u001b[1;32m    185\u001b[0m \u001b[43m        \u001b[49m\u001b[43m)\u001b[49m\n\u001b[1;32m    186\u001b[0m     )\n\u001b[1;32m    187\u001b[0m     \u001b[38;5;28;01mreturn\u001b[39;00m \u001b[38;5;28mself\u001b[39m\u001b[38;5;241m.\u001b[39mmodel\u001b[38;5;241m.\u001b[39mpredict(obs)[\u001b[38;5;241m0\u001b[39m] \u001b[38;5;241m==\u001b[39m \u001b[38;5;241m0\u001b[39m\n",
      "File \u001b[0;32m~/Applications/miniconda3/envs/rl_mcts/lib/python3.8/site-packages/pandas/core/frame.py:2338\u001b[0m, in \u001b[0;36mDataFrame.from_records\u001b[0;34m(cls, data, index, exclude, columns, coerce_float, nrows)\u001b[0m\n\u001b[1;32m   2336\u001b[0m     arr_columns \u001b[38;5;241m=\u001b[39m columns\n\u001b[1;32m   2337\u001b[0m \u001b[38;5;28;01melse\u001b[39;00m:\n\u001b[0;32m-> 2338\u001b[0m     arrays, arr_columns \u001b[38;5;241m=\u001b[39m \u001b[43mto_arrays\u001b[49m\u001b[43m(\u001b[49m\u001b[43mdata\u001b[49m\u001b[43m,\u001b[49m\u001b[43m \u001b[49m\u001b[43mcolumns\u001b[49m\u001b[43m)\u001b[49m\n\u001b[1;32m   2339\u001b[0m     \u001b[38;5;28;01mif\u001b[39;00m coerce_float:\n\u001b[1;32m   2340\u001b[0m         \u001b[38;5;28;01mfor\u001b[39;00m i, arr \u001b[38;5;129;01min\u001b[39;00m \u001b[38;5;28menumerate\u001b[39m(arrays):\n",
      "File \u001b[0;32m~/Applications/miniconda3/envs/rl_mcts/lib/python3.8/site-packages/pandas/core/internals/construction.py:875\u001b[0m, in \u001b[0;36mto_arrays\u001b[0;34m(data, columns, dtype)\u001b[0m\n\u001b[1;32m    872\u001b[0m     data \u001b[38;5;241m=\u001b[39m [\u001b[38;5;28mtuple\u001b[39m(x) \u001b[38;5;28;01mfor\u001b[39;00m x \u001b[38;5;129;01min\u001b[39;00m data]\n\u001b[1;32m    873\u001b[0m     arr \u001b[38;5;241m=\u001b[39m _list_to_arrays(data)\n\u001b[0;32m--> 875\u001b[0m content, columns \u001b[38;5;241m=\u001b[39m \u001b[43m_finalize_columns_and_data\u001b[49m\u001b[43m(\u001b[49m\u001b[43marr\u001b[49m\u001b[43m,\u001b[49m\u001b[43m \u001b[49m\u001b[43mcolumns\u001b[49m\u001b[43m,\u001b[49m\u001b[43m \u001b[49m\u001b[43mdtype\u001b[49m\u001b[43m)\u001b[49m\n\u001b[1;32m    876\u001b[0m \u001b[38;5;28;01mreturn\u001b[39;00m content, columns\n",
      "File \u001b[0;32m~/Applications/miniconda3/envs/rl_mcts/lib/python3.8/site-packages/pandas/core/internals/construction.py:975\u001b[0m, in \u001b[0;36m_finalize_columns_and_data\u001b[0;34m(content, columns, dtype)\u001b[0m\n\u001b[1;32m    972\u001b[0m     \u001b[38;5;28;01mraise\u001b[39;00m \u001b[38;5;167;01mValueError\u001b[39;00m(err) \u001b[38;5;28;01mfrom\u001b[39;00m \u001b[38;5;21;01merr\u001b[39;00m\n\u001b[1;32m    974\u001b[0m \u001b[38;5;28;01mif\u001b[39;00m \u001b[38;5;28mlen\u001b[39m(contents) \u001b[38;5;129;01mand\u001b[39;00m contents[\u001b[38;5;241m0\u001b[39m]\u001b[38;5;241m.\u001b[39mdtype \u001b[38;5;241m==\u001b[39m np\u001b[38;5;241m.\u001b[39mobject_:\n\u001b[0;32m--> 975\u001b[0m     contents \u001b[38;5;241m=\u001b[39m \u001b[43m_convert_object_array\u001b[49m\u001b[43m(\u001b[49m\u001b[43mcontents\u001b[49m\u001b[43m,\u001b[49m\u001b[43m \u001b[49m\u001b[43mdtype\u001b[49m\u001b[38;5;241;43m=\u001b[39;49m\u001b[43mdtype\u001b[49m\u001b[43m)\u001b[49m\n\u001b[1;32m    977\u001b[0m \u001b[38;5;28;01mreturn\u001b[39;00m contents, columns\n",
      "File \u001b[0;32m~/Applications/miniconda3/envs/rl_mcts/lib/python3.8/site-packages/pandas/core/internals/construction.py:1060\u001b[0m, in \u001b[0;36m_convert_object_array\u001b[0;34m(content, dtype)\u001b[0m\n\u001b[1;32m   1057\u001b[0m         arr \u001b[38;5;241m=\u001b[39m maybe_cast_to_datetime(arr, dtype)\n\u001b[1;32m   1058\u001b[0m     \u001b[38;5;28;01mreturn\u001b[39;00m arr\n\u001b[0;32m-> 1060\u001b[0m arrays \u001b[38;5;241m=\u001b[39m [convert(arr) \u001b[38;5;28;01mfor\u001b[39;00m arr \u001b[38;5;129;01min\u001b[39;00m content]\n\u001b[1;32m   1062\u001b[0m \u001b[38;5;28;01mreturn\u001b[39;00m arrays\n",
      "File \u001b[0;32m~/Applications/miniconda3/envs/rl_mcts/lib/python3.8/site-packages/pandas/core/internals/construction.py:1060\u001b[0m, in \u001b[0;36m<listcomp>\u001b[0;34m(.0)\u001b[0m\n\u001b[1;32m   1057\u001b[0m         arr \u001b[38;5;241m=\u001b[39m maybe_cast_to_datetime(arr, dtype)\n\u001b[1;32m   1058\u001b[0m     \u001b[38;5;28;01mreturn\u001b[39;00m arr\n\u001b[0;32m-> 1060\u001b[0m arrays \u001b[38;5;241m=\u001b[39m [\u001b[43mconvert\u001b[49m\u001b[43m(\u001b[49m\u001b[43marr\u001b[49m\u001b[43m)\u001b[49m \u001b[38;5;28;01mfor\u001b[39;00m arr \u001b[38;5;129;01min\u001b[39;00m content]\n\u001b[1;32m   1062\u001b[0m \u001b[38;5;28;01mreturn\u001b[39;00m arrays\n",
      "File \u001b[0;32m~/Applications/miniconda3/envs/rl_mcts/lib/python3.8/site-packages/pandas/core/internals/construction.py:1056\u001b[0m, in \u001b[0;36m_convert_object_array.<locals>.convert\u001b[0;34m(arr)\u001b[0m\n\u001b[1;32m   1054\u001b[0m \u001b[38;5;28;01mdef\u001b[39;00m \u001b[38;5;21mconvert\u001b[39m(arr):\n\u001b[1;32m   1055\u001b[0m     \u001b[38;5;28;01mif\u001b[39;00m dtype \u001b[38;5;241m!=\u001b[39m np\u001b[38;5;241m.\u001b[39mdtype(\u001b[38;5;124m\"\u001b[39m\u001b[38;5;124mO\u001b[39m\u001b[38;5;124m\"\u001b[39m):\n\u001b[0;32m-> 1056\u001b[0m         arr \u001b[38;5;241m=\u001b[39m \u001b[43mlib\u001b[49m\u001b[38;5;241;43m.\u001b[39;49m\u001b[43mmaybe_convert_objects\u001b[49m\u001b[43m(\u001b[49m\u001b[43marr\u001b[49m\u001b[43m)\u001b[49m\n\u001b[1;32m   1057\u001b[0m         arr \u001b[38;5;241m=\u001b[39m maybe_cast_to_datetime(arr, dtype)\n\u001b[1;32m   1058\u001b[0m     \u001b[38;5;28;01mreturn\u001b[39;00m arr\n",
      "\u001b[0;31mKeyboardInterrupt\u001b[0m: "
     ]
    }
   ],
   "source": [
    "# Train a FARE model given the previous configurations\n",
    "model = FARE(blackbox_model, policy_config, environment_config, mcts_config)\n",
    "model.fit(X_train, max_iter=500, verbose=True)"
   ]
  },
  {
   "cell_type": "code",
   "execution_count": 13,
   "metadata": {},
   "outputs": [],
   "source": [
    "# We save the trained FARE model to disc\n",
    "model.save(\"fare.pth\")"
   ]
  },
  {
   "cell_type": "code",
   "execution_count": 15,
   "metadata": {},
   "outputs": [],
   "source": [
    "# We use the model to predict the test data\n",
    "# We use only the test data which are negatively classified\n",
    "output = blackbox_model.predict(preprocessor.transform(X_test))\n",
    "X_test[\"predicted\"] = output\n",
    "X_test = X_test[X_test.predicted == 1]\n",
    "X_test.drop(columns=\"predicted\", inplace=True)"
   ]
  },
  {
   "cell_type": "code",
   "execution_count": 16,
   "metadata": {},
   "outputs": [],
   "source": [
    "# We run inference using FARE\n",
    "counterfactuals, result, traces, costs = model.predict(X_test[0:10], full_output=True)"
   ]
  },
  {
   "cell_type": "code",
   "execution_count": null,
   "metadata": {},
   "outputs": [],
   "source": [
    "coun"
   ]
  }
 ],
 "metadata": {
  "kernelspec": {
   "display_name": "rl-mcts",
   "language": "python",
   "name": "rl-mcts"
  },
  "language_info": {
   "codemirror_mode": {
    "name": "ipython",
    "version": 3
   },
   "file_extension": ".py",
   "mimetype": "text/x-python",
   "name": "python",
   "nbconvert_exporter": "python",
   "pygments_lexer": "ipython3",
   "version": "3.8.16"
  }
 },
 "nbformat": 4,
 "nbformat_minor": 4
}
